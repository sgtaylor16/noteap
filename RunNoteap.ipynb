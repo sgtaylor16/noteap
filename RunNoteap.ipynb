{
 "cells": [
  {
   "cell_type": "code",
   "execution_count": 1,
   "metadata": {},
   "outputs": [],
   "source": [
    "import noteap.parsenotes as pn\n",
    "\n",
    "folderpath = 'C:/Users/sgtay/Documents/git/Python/noteap/Meetings'\n",
    "htmlpath = 'C:/Users/sgtay/Documents/git/Python/noteap/topofpageBootStrap.html'"
   ]
  },
  {
   "cell_type": "code",
   "execution_count": 3,
   "metadata": {},
   "outputs": [],
   "source": [
    "pn.WriteNotesHTMLPage(folderpath,htmlpath,'finalpageBootstrap')"
   ]
  },
  {
   "cell_type": "code",
   "execution_count": 5,
   "metadata": {},
   "outputs": [
    {
     "output_type": "execute_result",
     "data": {
      "text/plain": [
       "['DesignMeeting', 'Procurement', 'README.md']"
      ]
     },
     "metadata": {},
     "execution_count": 5
    }
   ],
   "source": [
    "pn.FindMeetings(folderpath)"
   ]
  },
  {
   "cell_type": "code",
   "execution_count": 2,
   "metadata": {},
   "outputs": [
    {
     "output_type": "execute_result",
     "data": {
      "text/plain": [
       "'<p style=\"color:red\";>blah blah </p>'"
      ]
     },
     "metadata": {},
     "execution_count": 2
    }
   ],
   "source": [
    "pn.AddStyle('<p>blah blah </p>',{'color':'red'})"
   ]
  },
  {
   "cell_type": "code",
   "execution_count": null,
   "metadata": {},
   "outputs": [],
   "source": []
  }
 ],
 "metadata": {
  "kernelspec": {
   "name": "python385jvsc74a57bd0686d71a515657cd9bf03f2ed36216884d0414ebfa9f8b4db08a5c27d0f8a395b",
   "display_name": "Python 3.8.5 64-bit (conda)"
  },
  "language_info": {
   "codemirror_mode": {
    "name": "ipython",
    "version": 3
   },
   "file_extension": ".py",
   "mimetype": "text/x-python",
   "name": "python",
   "nbconvert_exporter": "python",
   "pygments_lexer": "ipython3",
   "version": "3.8.5"
  }
 },
 "nbformat": 4,
 "nbformat_minor": 4
}